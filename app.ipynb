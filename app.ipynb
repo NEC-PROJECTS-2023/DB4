{
  "nbformat": 4,
  "nbformat_minor": 0,
  "metadata": {
    "colab": {
      "provenance": []
    },
    "kernelspec": {
      "name": "python3",
      "display_name": "Python 3"
    },
    "language_info": {
      "name": "python"
    }
  },
  "cells": [
    {
      "cell_type": "code",
      "source": [
        "import re"
      ],
      "metadata": {
        "id": "PTiiW2c7Keex"
      },
      "execution_count": 1,
      "outputs": []
    },
    {
      "cell_type": "code",
      "execution_count": 2,
      "metadata": {
        "colab": {
          "base_uri": "https://localhost:8080/"
        },
        "id": "hTjDofea7Uib",
        "outputId": "8404ba6a-e713-46b4-a30f-c1f3c3f4f81e"
      },
      "outputs": [
        {
          "output_type": "stream",
          "name": "stdout",
          "text": [
            "Looking in indexes: https://pypi.org/simple, https://us-python.pkg.dev/colab-wheels/public/simple/\n",
            "Collecting crispyn\n",
            "  Downloading crispyn-0.0.2-py3-none-any.whl (13 kB)\n",
            "Requirement already satisfied: numpy in /usr/local/lib/python3.8/dist-packages (from crispyn) (1.21.6)\n",
            "Installing collected packages: crispyn\n",
            "Successfully installed crispyn-0.0.2\n"
          ]
        }
      ],
      "source": [
        "pip install crispyn"
      ]
    },
    {
      "cell_type": "code",
      "source": [
        "# IMPORTING ALL THE REQUIRED PACKAGES\n",
        "import pandas as pd\n",
        "import seaborn as sns\n",
        "import matplotlib.pyplot as plt\n",
        "%matplotlib inline\n",
        "import numpy as np\n",
        "from sklearn.model_selection import train_test_split\n",
        "from sklearn.impute import SimpleImputer\n",
        "from sklearn.preprocessing import LabelEncoder\n",
        "from sklearn.preprocessing import OneHotEncoder\n",
        "from textblob import TextBlob\n",
        "plt.style.use('fivethirtyeight')\n",
        "import nltk\n",
        "from nltk.stem import WordNetLemmatizer\n",
        "from sklearn import neighbors\n",
        "from scipy import optimize\n",
        "import math\n",
        "from sklearn.metrics import accuracy_score,confusion_matrix,classification_report\n",
        "from sklearn.linear_model import LogisticRegression\n",
        "from sklearn import metrics\n",
        "from wordcloud import WordCloud, STOPWORDS\n",
        "import warnings\n",
        "warnings.filterwarnings('ignore')"
      ],
      "metadata": {
        "id": "fN81p5uq79mh"
      },
      "execution_count": 3,
      "outputs": []
    },
    {
      "cell_type": "code",
      "source": [
        "df = pd.read_csv(\"/content/dataset1.csv\")\n",
        "df.head(10)"
      ],
      "metadata": {
        "colab": {
          "base_uri": "https://localhost:8080/",
          "height": 1000
        },
        "id": "xUY0PPsa8rf6",
        "outputId": "8afc807e-d425-4709-c864-9503325ed97c"
      },
      "execution_count": 4,
      "outputs": [
        {
          "output_type": "execute_result",
          "data": {
            "text/plain": [
              "   product_id                                       product_name product_type  \\\n",
              "0      110001  REFLEX 3.0 DUAL TONED SMART BAND IN MIDNIGHT B...  Smart Watch   \n",
              "1      110002                                      Amazfit bip u  Smart Watch   \n",
              "2      110003                              Noise ColorFit Pro 3   Smart Watch   \n",
              "3      110004                             Samsung Galaxy Watch 4  Smart Watch   \n",
              "4      110005                               Apple watch series 7  Smart Watch   \n",
              "5      110006                                        Fogg Xtremo      Perfume   \n",
              "6      110007  PARK AVENUE elevate deo Perfume Body Spray - F...      Perfume   \n",
              "7      110008  Axe Signature Dark Temptation No Gas Deodorant...      Perfume   \n",
              "8      110009                    Engage M1 Perfume Spray For Men      Perfume   \n",
              "9      110010  Axe Signature - Intense, Long Lasting, No Gas,...      Perfume   \n",
              "\n",
              "  product_brand                                      product_image  \\\n",
              "0      Fastrack  https://staticimg.titan.co.in/Fastrack/Catalog...   \n",
              "1       Amazfit  https://encrypted-tbn1.gstatic.com/shopping?q=...   \n",
              "2         Noise  https://m.media-amazon.com/images/I/61OpDFvFkE...   \n",
              "3       Samsung  https://images.samsung.com/is/image/samsung/p6...   \n",
              "4         Apple  https://d2xamzlzrdbdbn.cloudfront.net/products...   \n",
              "5          Fogg  https://rukminim1.flixcart.com/image/416/416/l...   \n",
              "6   Park Avenue  https://m.media-amazon.com/images/I/61D3V8Mhl5...   \n",
              "7           AXE  https://asset-apac.unileversolutions.com/conte...   \n",
              "8        Engage  https://m.media-amazon.com/images/I/61NH+NnMdW...   \n",
              "9           AXE  https://www.bigbasket.com/media/uploads/p/l/40...   \n",
              "\n",
              "    ecs_1_name  ecs_1_price  \\\n",
              "0     Fastrack         1795   \n",
              "1       Myntra         2499   \n",
              "2       Amazon         5999   \n",
              "3       Amazon        18999   \n",
              "4  Vijay sales        38900   \n",
              "5       Amazon          397   \n",
              "6       Amazon          235   \n",
              "7       Amazon          193   \n",
              "8       Amazon          210   \n",
              "9       Amazon          185   \n",
              "\n",
              "                                          ecs_1_link  ecs_1_rating  \\\n",
              "0  https://www.fastrack.in/product/fastrack-refle...           3.5   \n",
              "1  https://www.myntra.com/smart-watches/amazfit/-...           4.3   \n",
              "2  https://www.amazon.in/Noise-ColorFit-Bluetooth...           4.1   \n",
              "3  https://www.amazon.in/Samsung-Galaxy-Bluetooth...           4.1   \n",
              "4  https://www.vijaysales.com/apple-watch-series-...           4.5   \n",
              "5  https://arcus-www.amazon.in/Fogg-Xtremo-Scent-...           4.1   \n",
              "6  https://www.amazon.in/Park-Avenue-Elevate-Perf...           4.3   \n",
              "7  https://www.amazon.in/Signature-Dark-Temptatio...           4.0   \n",
              "8  https://www.amazon.in/Engage-Perfume-Spray-Men...           4.0   \n",
              "9  https://www.amazon.in/AXE-Signature-Perfume-In...           4.1   \n",
              "\n",
              "                                        ecs_1_review  ... subjectivity_1  \\\n",
              "0  Nice Great product but could improve on displa...  ...            NaN   \n",
              "1  Good product 👍 Quality Product Highly recommen...  ...            NaN   \n",
              "2  Excellent product... Amazon delivered it a day...  ...            NaN   \n",
              "3  reviews_name All positive reviewsâ€º Reviewed ...  ...            NaN   \n",
              "4  The Apple Watch Series 7 is finally here, brin...  ...            NaN   \n",
              "5  Fragrances are subjective, still, this smells ...  ...            NaN   \n",
              "6  The smell is very nice. And long tiThe product...  ...            NaN   \n",
              "7  Don't apply too much , bcz the one who applies...  ...            NaN   \n",
              "8  Value for money. Nice  Good fragrance and long...  ...            NaN   \n",
              "9  I like it\\nNot long lasting as it claims\\nI li...  ...            NaN   \n",
              "\n",
              "   subjectivity_2 subjectivity_3  subjectivity_4 subjectivity_5  \\\n",
              "0             NaN            NaN             NaN            NaN   \n",
              "1             NaN            NaN             NaN            NaN   \n",
              "2             NaN            NaN             NaN            NaN   \n",
              "3             NaN            NaN             NaN            NaN   \n",
              "4             NaN            NaN             NaN            NaN   \n",
              "5             NaN            NaN             NaN            NaN   \n",
              "6             NaN            NaN             NaN            NaN   \n",
              "7             NaN            NaN             NaN            NaN   \n",
              "8             NaN            NaN             NaN            NaN   \n",
              "9             NaN            NaN             NaN            NaN   \n",
              "\n",
              "  subjectivity_6  subjectivity_7 subjectivity_8  subjectivity_9  \\\n",
              "0            NaN             NaN            NaN             NaN   \n",
              "1            NaN             NaN            NaN             NaN   \n",
              "2            NaN             NaN            NaN             NaN   \n",
              "3            NaN             NaN            NaN             NaN   \n",
              "4            NaN             NaN            NaN             NaN   \n",
              "5            NaN             NaN            NaN             NaN   \n",
              "6            NaN             NaN            NaN             NaN   \n",
              "7            NaN             NaN            NaN             NaN   \n",
              "8            NaN             NaN            NaN             NaN   \n",
              "9            NaN             NaN            NaN             NaN   \n",
              "\n",
              "  subjectivity_10  \n",
              "0             NaN  \n",
              "1             NaN  \n",
              "2             NaN  \n",
              "3             NaN  \n",
              "4             NaN  \n",
              "5             NaN  \n",
              "6             NaN  \n",
              "7             NaN  \n",
              "8             NaN  \n",
              "9             NaN  \n",
              "\n",
              "[10 rows x 85 columns]"
            ],
            "text/html": [
              "\n",
              "  <div id=\"df-6d612f90-9e81-4b5e-a858-f1d20d509324\">\n",
              "    <div class=\"colab-df-container\">\n",
              "      <div>\n",
              "<style scoped>\n",
              "    .dataframe tbody tr th:only-of-type {\n",
              "        vertical-align: middle;\n",
              "    }\n",
              "\n",
              "    .dataframe tbody tr th {\n",
              "        vertical-align: top;\n",
              "    }\n",
              "\n",
              "    .dataframe thead th {\n",
              "        text-align: right;\n",
              "    }\n",
              "</style>\n",
              "<table border=\"1\" class=\"dataframe\">\n",
              "  <thead>\n",
              "    <tr style=\"text-align: right;\">\n",
              "      <th></th>\n",
              "      <th>product_id</th>\n",
              "      <th>product_name</th>\n",
              "      <th>product_type</th>\n",
              "      <th>product_brand</th>\n",
              "      <th>product_image</th>\n",
              "      <th>ecs_1_name</th>\n",
              "      <th>ecs_1_price</th>\n",
              "      <th>ecs_1_link</th>\n",
              "      <th>ecs_1_rating</th>\n",
              "      <th>ecs_1_review</th>\n",
              "      <th>...</th>\n",
              "      <th>subjectivity_1</th>\n",
              "      <th>subjectivity_2</th>\n",
              "      <th>subjectivity_3</th>\n",
              "      <th>subjectivity_4</th>\n",
              "      <th>subjectivity_5</th>\n",
              "      <th>subjectivity_6</th>\n",
              "      <th>subjectivity_7</th>\n",
              "      <th>subjectivity_8</th>\n",
              "      <th>subjectivity_9</th>\n",
              "      <th>subjectivity_10</th>\n",
              "    </tr>\n",
              "  </thead>\n",
              "  <tbody>\n",
              "    <tr>\n",
              "      <th>0</th>\n",
              "      <td>110001</td>\n",
              "      <td>REFLEX 3.0 DUAL TONED SMART BAND IN MIDNIGHT B...</td>\n",
              "      <td>Smart Watch</td>\n",
              "      <td>Fastrack</td>\n",
              "      <td>https://staticimg.titan.co.in/Fastrack/Catalog...</td>\n",
              "      <td>Fastrack</td>\n",
              "      <td>1795</td>\n",
              "      <td>https://www.fastrack.in/product/fastrack-refle...</td>\n",
              "      <td>3.5</td>\n",
              "      <td>Nice Great product but could improve on displa...</td>\n",
              "      <td>...</td>\n",
              "      <td>NaN</td>\n",
              "      <td>NaN</td>\n",
              "      <td>NaN</td>\n",
              "      <td>NaN</td>\n",
              "      <td>NaN</td>\n",
              "      <td>NaN</td>\n",
              "      <td>NaN</td>\n",
              "      <td>NaN</td>\n",
              "      <td>NaN</td>\n",
              "      <td>NaN</td>\n",
              "    </tr>\n",
              "    <tr>\n",
              "      <th>1</th>\n",
              "      <td>110002</td>\n",
              "      <td>Amazfit bip u</td>\n",
              "      <td>Smart Watch</td>\n",
              "      <td>Amazfit</td>\n",
              "      <td>https://encrypted-tbn1.gstatic.com/shopping?q=...</td>\n",
              "      <td>Myntra</td>\n",
              "      <td>2499</td>\n",
              "      <td>https://www.myntra.com/smart-watches/amazfit/-...</td>\n",
              "      <td>4.3</td>\n",
              "      <td>Good product 👍 Quality Product Highly recommen...</td>\n",
              "      <td>...</td>\n",
              "      <td>NaN</td>\n",
              "      <td>NaN</td>\n",
              "      <td>NaN</td>\n",
              "      <td>NaN</td>\n",
              "      <td>NaN</td>\n",
              "      <td>NaN</td>\n",
              "      <td>NaN</td>\n",
              "      <td>NaN</td>\n",
              "      <td>NaN</td>\n",
              "      <td>NaN</td>\n",
              "    </tr>\n",
              "    <tr>\n",
              "      <th>2</th>\n",
              "      <td>110003</td>\n",
              "      <td>Noise ColorFit Pro 3</td>\n",
              "      <td>Smart Watch</td>\n",
              "      <td>Noise</td>\n",
              "      <td>https://m.media-amazon.com/images/I/61OpDFvFkE...</td>\n",
              "      <td>Amazon</td>\n",
              "      <td>5999</td>\n",
              "      <td>https://www.amazon.in/Noise-ColorFit-Bluetooth...</td>\n",
              "      <td>4.1</td>\n",
              "      <td>Excellent product... Amazon delivered it a day...</td>\n",
              "      <td>...</td>\n",
              "      <td>NaN</td>\n",
              "      <td>NaN</td>\n",
              "      <td>NaN</td>\n",
              "      <td>NaN</td>\n",
              "      <td>NaN</td>\n",
              "      <td>NaN</td>\n",
              "      <td>NaN</td>\n",
              "      <td>NaN</td>\n",
              "      <td>NaN</td>\n",
              "      <td>NaN</td>\n",
              "    </tr>\n",
              "    <tr>\n",
              "      <th>3</th>\n",
              "      <td>110004</td>\n",
              "      <td>Samsung Galaxy Watch 4</td>\n",
              "      <td>Smart Watch</td>\n",
              "      <td>Samsung</td>\n",
              "      <td>https://images.samsung.com/is/image/samsung/p6...</td>\n",
              "      <td>Amazon</td>\n",
              "      <td>18999</td>\n",
              "      <td>https://www.amazon.in/Samsung-Galaxy-Bluetooth...</td>\n",
              "      <td>4.1</td>\n",
              "      <td>reviews_name All positive reviewsâ€º Reviewed ...</td>\n",
              "      <td>...</td>\n",
              "      <td>NaN</td>\n",
              "      <td>NaN</td>\n",
              "      <td>NaN</td>\n",
              "      <td>NaN</td>\n",
              "      <td>NaN</td>\n",
              "      <td>NaN</td>\n",
              "      <td>NaN</td>\n",
              "      <td>NaN</td>\n",
              "      <td>NaN</td>\n",
              "      <td>NaN</td>\n",
              "    </tr>\n",
              "    <tr>\n",
              "      <th>4</th>\n",
              "      <td>110005</td>\n",
              "      <td>Apple watch series 7</td>\n",
              "      <td>Smart Watch</td>\n",
              "      <td>Apple</td>\n",
              "      <td>https://d2xamzlzrdbdbn.cloudfront.net/products...</td>\n",
              "      <td>Vijay sales</td>\n",
              "      <td>38900</td>\n",
              "      <td>https://www.vijaysales.com/apple-watch-series-...</td>\n",
              "      <td>4.5</td>\n",
              "      <td>The Apple Watch Series 7 is finally here, brin...</td>\n",
              "      <td>...</td>\n",
              "      <td>NaN</td>\n",
              "      <td>NaN</td>\n",
              "      <td>NaN</td>\n",
              "      <td>NaN</td>\n",
              "      <td>NaN</td>\n",
              "      <td>NaN</td>\n",
              "      <td>NaN</td>\n",
              "      <td>NaN</td>\n",
              "      <td>NaN</td>\n",
              "      <td>NaN</td>\n",
              "    </tr>\n",
              "    <tr>\n",
              "      <th>5</th>\n",
              "      <td>110006</td>\n",
              "      <td>Fogg Xtremo</td>\n",
              "      <td>Perfume</td>\n",
              "      <td>Fogg</td>\n",
              "      <td>https://rukminim1.flixcart.com/image/416/416/l...</td>\n",
              "      <td>Amazon</td>\n",
              "      <td>397</td>\n",
              "      <td>https://arcus-www.amazon.in/Fogg-Xtremo-Scent-...</td>\n",
              "      <td>4.1</td>\n",
              "      <td>Fragrances are subjective, still, this smells ...</td>\n",
              "      <td>...</td>\n",
              "      <td>NaN</td>\n",
              "      <td>NaN</td>\n",
              "      <td>NaN</td>\n",
              "      <td>NaN</td>\n",
              "      <td>NaN</td>\n",
              "      <td>NaN</td>\n",
              "      <td>NaN</td>\n",
              "      <td>NaN</td>\n",
              "      <td>NaN</td>\n",
              "      <td>NaN</td>\n",
              "    </tr>\n",
              "    <tr>\n",
              "      <th>6</th>\n",
              "      <td>110007</td>\n",
              "      <td>PARK AVENUE elevate deo Perfume Body Spray - F...</td>\n",
              "      <td>Perfume</td>\n",
              "      <td>Park Avenue</td>\n",
              "      <td>https://m.media-amazon.com/images/I/61D3V8Mhl5...</td>\n",
              "      <td>Amazon</td>\n",
              "      <td>235</td>\n",
              "      <td>https://www.amazon.in/Park-Avenue-Elevate-Perf...</td>\n",
              "      <td>4.3</td>\n",
              "      <td>The smell is very nice. And long tiThe product...</td>\n",
              "      <td>...</td>\n",
              "      <td>NaN</td>\n",
              "      <td>NaN</td>\n",
              "      <td>NaN</td>\n",
              "      <td>NaN</td>\n",
              "      <td>NaN</td>\n",
              "      <td>NaN</td>\n",
              "      <td>NaN</td>\n",
              "      <td>NaN</td>\n",
              "      <td>NaN</td>\n",
              "      <td>NaN</td>\n",
              "    </tr>\n",
              "    <tr>\n",
              "      <th>7</th>\n",
              "      <td>110008</td>\n",
              "      <td>Axe Signature Dark Temptation No Gas Deodorant...</td>\n",
              "      <td>Perfume</td>\n",
              "      <td>AXE</td>\n",
              "      <td>https://asset-apac.unileversolutions.com/conte...</td>\n",
              "      <td>Amazon</td>\n",
              "      <td>193</td>\n",
              "      <td>https://www.amazon.in/Signature-Dark-Temptatio...</td>\n",
              "      <td>4.0</td>\n",
              "      <td>Don't apply too much , bcz the one who applies...</td>\n",
              "      <td>...</td>\n",
              "      <td>NaN</td>\n",
              "      <td>NaN</td>\n",
              "      <td>NaN</td>\n",
              "      <td>NaN</td>\n",
              "      <td>NaN</td>\n",
              "      <td>NaN</td>\n",
              "      <td>NaN</td>\n",
              "      <td>NaN</td>\n",
              "      <td>NaN</td>\n",
              "      <td>NaN</td>\n",
              "    </tr>\n",
              "    <tr>\n",
              "      <th>8</th>\n",
              "      <td>110009</td>\n",
              "      <td>Engage M1 Perfume Spray For Men</td>\n",
              "      <td>Perfume</td>\n",
              "      <td>Engage</td>\n",
              "      <td>https://m.media-amazon.com/images/I/61NH+NnMdW...</td>\n",
              "      <td>Amazon</td>\n",
              "      <td>210</td>\n",
              "      <td>https://www.amazon.in/Engage-Perfume-Spray-Men...</td>\n",
              "      <td>4.0</td>\n",
              "      <td>Value for money. Nice  Good fragrance and long...</td>\n",
              "      <td>...</td>\n",
              "      <td>NaN</td>\n",
              "      <td>NaN</td>\n",
              "      <td>NaN</td>\n",
              "      <td>NaN</td>\n",
              "      <td>NaN</td>\n",
              "      <td>NaN</td>\n",
              "      <td>NaN</td>\n",
              "      <td>NaN</td>\n",
              "      <td>NaN</td>\n",
              "      <td>NaN</td>\n",
              "    </tr>\n",
              "    <tr>\n",
              "      <th>9</th>\n",
              "      <td>110010</td>\n",
              "      <td>Axe Signature - Intense, Long Lasting, No Gas,...</td>\n",
              "      <td>Perfume</td>\n",
              "      <td>AXE</td>\n",
              "      <td>https://www.bigbasket.com/media/uploads/p/l/40...</td>\n",
              "      <td>Amazon</td>\n",
              "      <td>185</td>\n",
              "      <td>https://www.amazon.in/AXE-Signature-Perfume-In...</td>\n",
              "      <td>4.1</td>\n",
              "      <td>I like it\\nNot long lasting as it claims\\nI li...</td>\n",
              "      <td>...</td>\n",
              "      <td>NaN</td>\n",
              "      <td>NaN</td>\n",
              "      <td>NaN</td>\n",
              "      <td>NaN</td>\n",
              "      <td>NaN</td>\n",
              "      <td>NaN</td>\n",
              "      <td>NaN</td>\n",
              "      <td>NaN</td>\n",
              "      <td>NaN</td>\n",
              "      <td>NaN</td>\n",
              "    </tr>\n",
              "  </tbody>\n",
              "</table>\n",
              "<p>10 rows × 85 columns</p>\n",
              "</div>\n",
              "      <button class=\"colab-df-convert\" onclick=\"convertToInteractive('df-6d612f90-9e81-4b5e-a858-f1d20d509324')\"\n",
              "              title=\"Convert this dataframe to an interactive table.\"\n",
              "              style=\"display:none;\">\n",
              "        \n",
              "  <svg xmlns=\"http://www.w3.org/2000/svg\" height=\"24px\"viewBox=\"0 0 24 24\"\n",
              "       width=\"24px\">\n",
              "    <path d=\"M0 0h24v24H0V0z\" fill=\"none\"/>\n",
              "    <path d=\"M18.56 5.44l.94 2.06.94-2.06 2.06-.94-2.06-.94-.94-2.06-.94 2.06-2.06.94zm-11 1L8.5 8.5l.94-2.06 2.06-.94-2.06-.94L8.5 2.5l-.94 2.06-2.06.94zm10 10l.94 2.06.94-2.06 2.06-.94-2.06-.94-.94-2.06-.94 2.06-2.06.94z\"/><path d=\"M17.41 7.96l-1.37-1.37c-.4-.4-.92-.59-1.43-.59-.52 0-1.04.2-1.43.59L10.3 9.45l-7.72 7.72c-.78.78-.78 2.05 0 2.83L4 21.41c.39.39.9.59 1.41.59.51 0 1.02-.2 1.41-.59l7.78-7.78 2.81-2.81c.8-.78.8-2.07 0-2.86zM5.41 20L4 18.59l7.72-7.72 1.47 1.35L5.41 20z\"/>\n",
              "  </svg>\n",
              "      </button>\n",
              "      \n",
              "  <style>\n",
              "    .colab-df-container {\n",
              "      display:flex;\n",
              "      flex-wrap:wrap;\n",
              "      gap: 12px;\n",
              "    }\n",
              "\n",
              "    .colab-df-convert {\n",
              "      background-color: #E8F0FE;\n",
              "      border: none;\n",
              "      border-radius: 50%;\n",
              "      cursor: pointer;\n",
              "      display: none;\n",
              "      fill: #1967D2;\n",
              "      height: 32px;\n",
              "      padding: 0 0 0 0;\n",
              "      width: 32px;\n",
              "    }\n",
              "\n",
              "    .colab-df-convert:hover {\n",
              "      background-color: #E2EBFA;\n",
              "      box-shadow: 0px 1px 2px rgba(60, 64, 67, 0.3), 0px 1px 3px 1px rgba(60, 64, 67, 0.15);\n",
              "      fill: #174EA6;\n",
              "    }\n",
              "\n",
              "    [theme=dark] .colab-df-convert {\n",
              "      background-color: #3B4455;\n",
              "      fill: #D2E3FC;\n",
              "    }\n",
              "\n",
              "    [theme=dark] .colab-df-convert:hover {\n",
              "      background-color: #434B5C;\n",
              "      box-shadow: 0px 1px 3px 1px rgba(0, 0, 0, 0.15);\n",
              "      filter: drop-shadow(0px 1px 2px rgba(0, 0, 0, 0.3));\n",
              "      fill: #FFFFFF;\n",
              "    }\n",
              "  </style>\n",
              "\n",
              "      <script>\n",
              "        const buttonEl =\n",
              "          document.querySelector('#df-6d612f90-9e81-4b5e-a858-f1d20d509324 button.colab-df-convert');\n",
              "        buttonEl.style.display =\n",
              "          google.colab.kernel.accessAllowed ? 'block' : 'none';\n",
              "\n",
              "        async function convertToInteractive(key) {\n",
              "          const element = document.querySelector('#df-6d612f90-9e81-4b5e-a858-f1d20d509324');\n",
              "          const dataTable =\n",
              "            await google.colab.kernel.invokeFunction('convertToInteractive',\n",
              "                                                     [key], {});\n",
              "          if (!dataTable) return;\n",
              "\n",
              "          const docLinkHtml = 'Like what you see? Visit the ' +\n",
              "            '<a target=\"_blank\" href=https://colab.research.google.com/notebooks/data_table.ipynb>data table notebook</a>'\n",
              "            + ' to learn more about interactive tables.';\n",
              "          element.innerHTML = '';\n",
              "          dataTable['output_type'] = 'display_data';\n",
              "          await google.colab.output.renderOutput(dataTable, element);\n",
              "          const docLink = document.createElement('div');\n",
              "          docLink.innerHTML = docLinkHtml;\n",
              "          element.appendChild(docLink);\n",
              "        }\n",
              "      </script>\n",
              "    </div>\n",
              "  </div>\n",
              "  "
            ]
          },
          "metadata": {},
          "execution_count": 4
        }
      ]
    },
    {
      "cell_type": "code",
      "source": [
        "import string"
      ],
      "metadata": {
        "id": "nHUVjMnJ9FLr"
      },
      "execution_count": 5,
      "outputs": []
    },
    {
      "cell_type": "code",
      "source": [
        "pip install textblob"
      ],
      "metadata": {
        "colab": {
          "base_uri": "https://localhost:8080/"
        },
        "id": "eC3VNbqoBvvF",
        "outputId": "400af4ec-e30e-4e9b-bcab-4e11fe933aef"
      },
      "execution_count": 6,
      "outputs": [
        {
          "output_type": "stream",
          "name": "stdout",
          "text": [
            "Looking in indexes: https://pypi.org/simple, https://us-python.pkg.dev/colab-wheels/public/simple/\n",
            "Requirement already satisfied: textblob in /usr/local/lib/python3.8/dist-packages (0.15.3)\n",
            "Requirement already satisfied: nltk>=3.1 in /usr/local/lib/python3.8/dist-packages (from textblob) (3.7)\n",
            "Requirement already satisfied: regex>=2021.8.3 in /usr/local/lib/python3.8/dist-packages (from nltk>=3.1->textblob) (2022.6.2)\n",
            "Requirement already satisfied: click in /usr/local/lib/python3.8/dist-packages (from nltk>=3.1->textblob) (7.1.2)\n",
            "Requirement already satisfied: joblib in /usr/local/lib/python3.8/dist-packages (from nltk>=3.1->textblob) (1.2.0)\n",
            "Requirement already satisfied: tqdm in /usr/local/lib/python3.8/dist-packages (from nltk>=3.1->textblob) (4.64.1)\n"
          ]
        }
      ]
    },
    {
      "cell_type": "code",
      "source": [
        "from textblob import TextBlob"
      ],
      "metadata": {
        "id": "5JWISJGcB1HD"
      },
      "execution_count": 7,
      "outputs": []
    },
    {
      "cell_type": "code",
      "source": [
        "a=input()"
      ],
      "metadata": {
        "colab": {
          "base_uri": "https://localhost:8080/"
        },
        "id": "x3Trkjb6lZBt",
        "outputId": "baf5f1e4-5dff-4f64-e966-1739edb838fb"
      },
      "execution_count": 8,
      "outputs": [
        {
          "name": "stdout",
          "output_type": "stream",
          "text": [
            "Redmi 10\n"
          ]
        }
      ]
    },
    {
      "cell_type": "code",
      "source": [
        "df.dtypes"
      ],
      "metadata": {
        "colab": {
          "base_uri": "https://localhost:8080/"
        },
        "id": "NSvR7fsyHMA0",
        "outputId": "70882c6a-0a6e-4ac1-cf9d-4d532f22177f"
      },
      "execution_count": 9,
      "outputs": [
        {
          "output_type": "execute_result",
          "data": {
            "text/plain": [
              "product_id           int64\n",
              "product_name        object\n",
              "product_type        object\n",
              "product_brand       object\n",
              "product_image       object\n",
              "                    ...   \n",
              "subjectivity_6     float64\n",
              "subjectivity_7     float64\n",
              "subjectivity_8     float64\n",
              "subjectivity_9     float64\n",
              "subjectivity_10    float64\n",
              "Length: 85, dtype: object"
            ]
          },
          "metadata": {},
          "execution_count": 9
        }
      ]
    },
    {
      "cell_type": "code",
      "source": [
        "df.set_index(\"product_name\",inplace = True)"
      ],
      "metadata": {
        "id": "t6J8PpHjHhS6"
      },
      "execution_count": 10,
      "outputs": []
    },
    {
      "cell_type": "code",
      "source": [
        "res=df.loc[a]"
      ],
      "metadata": {
        "id": "bq7F-JK_B2fW"
      },
      "execution_count": 11,
      "outputs": []
    },
    {
      "cell_type": "code",
      "source": [
        "res"
      ],
      "metadata": {
        "colab": {
          "base_uri": "https://localhost:8080/"
        },
        "id": "L7RDM5nYHqIQ",
        "outputId": "8a483284-ab91-4c9b-e326-579201bae7ba"
      },
      "execution_count": 12,
      "outputs": [
        {
          "output_type": "execute_result",
          "data": {
            "text/plain": [
              "product_id                                                    110031\n",
              "product_type                                                  Mobile\n",
              "product_brand                                                  Redmi\n",
              "product_image      https://i01.appmifile.com/v1/MI_18455B3E4DA706...\n",
              "ecs_1_name                                                    Amazon\n",
              "                                         ...                        \n",
              "subjectivity_6                                                   NaN\n",
              "subjectivity_7                                                   NaN\n",
              "subjectivity_8                                                   NaN\n",
              "subjectivity_9                                                   NaN\n",
              "subjectivity_10                                                  NaN\n",
              "Name: Redmi 10, Length: 84, dtype: object"
            ]
          },
          "metadata": {},
          "execution_count": 12
        }
      ]
    },
    {
      "cell_type": "code",
      "source": [
        "from IPython.core.compilerop import check_linecache_ipython\n",
        "def clean(text):\n",
        "  text=re.sub(r'@[A-Za-z0-9]+','',text)\n",
        "  text=re.sub(r'#','',text)\n",
        "  text=re.sub(r'RT[\\s]+','',text)\n",
        "  text=re.sub(r'https?:\\/\\/\\S+','',text)\n",
        "  return text"
      ],
      "metadata": {
        "id": "-6Uvq51-Kb3M"
      },
      "execution_count": 13,
      "outputs": []
    },
    {
      "cell_type": "code",
      "source": [
        "def g2(text):\n",
        "  return TextBlob(text).sentiment.polarity"
      ],
      "metadata": {
        "id": "ooGtvQ7ORqO4"
      },
      "execution_count": 14,
      "outputs": []
    },
    {
      "cell_type": "code",
      "source": [
        "li=[]\n",
        "i=4\n",
        "lis=[]\n",
        "while(i<len(res)):\n",
        "  if(res[i]!=\"nan\"):\n",
        "    lis.append(res[i])\n",
        "    lis.append(res[i+1])\n",
        "    lis.append(res[i+3])\n",
        "    lis.append(res[i+4])\n",
        "    i=i+5\n",
        "    li.append(lis)\n",
        "    lis=[]\n",
        "finli=[]\n",
        "for i in li:\n",
        "  if  str(i[1]) != \"nan\":\n",
        "    mil=g2(i[3])\n",
        "    i[3]=mil\n",
        "    finli.append(i)\n",
        "finli"
      ],
      "metadata": {
        "colab": {
          "base_uri": "https://localhost:8080/"
        },
        "id": "DS-R8LzSH0P3",
        "outputId": "6dbc422c-adf0-4f2a-8b51-98594804b9fa"
      },
      "execution_count": 15,
      "outputs": [
        {
          "output_type": "execute_result",
          "data": {
            "text/plain": [
              "[['Amazon', 10139, 4.0, 0.2727380952380952],\n",
              " ['Flipkart', 9999.0, 4.3, 0.3815260636799098],\n",
              " ['mi', 9999.0, 4.8, 0.21902777777777777],\n",
              " ['Croma', 9999.0, 4.7, 0.6967400568181819],\n",
              " ['Vijay sales', 9999.0, 4.1, 0.2555934343434343]]"
            ]
          },
          "metadata": {},
          "execution_count": 15
        }
      ]
    },
    {
      "cell_type": "code",
      "source": [
        "def Sort(sub_li):\n",
        "  \n",
        "    # reverse = None (Sorts in Ascending order)\n",
        "    # key is set to sort using second element of \n",
        "    # sublist lambda has been used\n",
        "    sub_li.sort(key = lambda x: x[1])\n",
        "    return sub_li\n",
        "finli1=Sort(finli)"
      ],
      "metadata": {
        "id": "ywcH8nDXSc9M"
      },
      "execution_count": 16,
      "outputs": []
    },
    {
      "cell_type": "code",
      "source": [
        "finli1"
      ],
      "metadata": {
        "colab": {
          "base_uri": "https://localhost:8080/"
        },
        "id": "BVnCJuWGZpsa",
        "outputId": "34011f7e-715a-4c23-835f-9a33456ff373"
      },
      "execution_count": 17,
      "outputs": [
        {
          "output_type": "execute_result",
          "data": {
            "text/plain": [
              "[['Flipkart', 9999.0, 4.3, 0.3815260636799098],\n",
              " ['mi', 9999.0, 4.8, 0.21902777777777777],\n",
              " ['Croma', 9999.0, 4.7, 0.6967400568181819],\n",
              " ['Vijay sales', 9999.0, 4.1, 0.2555934343434343],\n",
              " ['Amazon', 10139, 4.0, 0.2727380952380952]]"
            ]
          },
          "metadata": {},
          "execution_count": 17
        }
      ]
    },
    {
      "cell_type": "code",
      "source": [
        "finli2=[]\n",
        "l=len(finli1)\n",
        "for i in finli1:\n",
        "  i[1]=l\n",
        "  l=l-1\n",
        "  finli2.append(i)"
      ],
      "metadata": {
        "id": "oRDgnzB9fV1p"
      },
      "execution_count": 18,
      "outputs": []
    },
    {
      "cell_type": "code",
      "source": [
        "finli2"
      ],
      "metadata": {
        "colab": {
          "base_uri": "https://localhost:8080/"
        },
        "id": "ApctvIjZfV4V",
        "outputId": "124f433d-7fcd-40de-e735-53a88233834a"
      },
      "execution_count": 19,
      "outputs": [
        {
          "output_type": "execute_result",
          "data": {
            "text/plain": [
              "[['Flipkart', 5, 4.3, 0.3815260636799098],\n",
              " ['mi', 4, 4.8, 0.21902777777777777],\n",
              " ['Croma', 3, 4.7, 0.6967400568181819],\n",
              " ['Vijay sales', 2, 4.1, 0.2555934343434343],\n",
              " ['Amazon', 1, 4.0, 0.2727380952380952]]"
            ]
          },
          "metadata": {},
          "execution_count": 19
        }
      ]
    },
    {
      "cell_type": "code",
      "source": [
        "finli3=[]"
      ],
      "metadata": {
        "id": "ZybrL3VzgIYu"
      },
      "execution_count": 20,
      "outputs": []
    },
    {
      "cell_type": "code",
      "source": [
        "for i in finli2:\n",
        "  suma=0.3*i[1]+0.4*i[2]+0.3*i[3]\n",
        "  i.append(suma)\n",
        "  finli3.append(i)"
      ],
      "metadata": {
        "id": "fkGScvbHfV66"
      },
      "execution_count": 21,
      "outputs": []
    },
    {
      "cell_type": "code",
      "source": [
        "finli3"
      ],
      "metadata": {
        "colab": {
          "base_uri": "https://localhost:8080/"
        },
        "id": "esRK9W-OfV-Z",
        "outputId": "f6697b08-0133-41b0-c2ab-6ae1b9554529"
      },
      "execution_count": 22,
      "outputs": [
        {
          "output_type": "execute_result",
          "data": {
            "text/plain": [
              "[['Flipkart', 5, 4.3, 0.3815260636799098, 3.3344578191039727],\n",
              " ['mi', 4, 4.8, 0.21902777777777777, 3.1857083333333334],\n",
              " ['Croma', 3, 4.7, 0.6967400568181819, 2.9890220170454547],\n",
              " ['Vijay sales', 2, 4.1, 0.2555934343434343, 2.31667803030303],\n",
              " ['Amazon', 1, 4.0, 0.2727380952380952, 1.9818214285714286]]"
            ]
          },
          "metadata": {},
          "execution_count": 22
        }
      ]
    },
    {
      "cell_type": "code",
      "source": [
        "def Sort1(sub_li):\n",
        "  \n",
        "    # reverse = None (Sorts in Ascending order)\n",
        "    # key is set to sort using second element of \n",
        "    # sublist lambda has been used\n",
        "    sub_li.sort(key = lambda x: x[4])\n",
        "    return sub_li"
      ],
      "metadata": {
        "id": "8wzVRe30glqv"
      },
      "execution_count": 23,
      "outputs": []
    },
    {
      "cell_type": "code",
      "source": [
        "finli4=Sort1(finli3)"
      ],
      "metadata": {
        "id": "ofpHVcmWgRTb"
      },
      "execution_count": 24,
      "outputs": []
    },
    {
      "cell_type": "code",
      "source": [
        "finli4"
      ],
      "metadata": {
        "colab": {
          "base_uri": "https://localhost:8080/"
        },
        "id": "CognuecbgW40",
        "outputId": "28f3cb17-47bc-458c-d759-38a11227d386"
      },
      "execution_count": 25,
      "outputs": [
        {
          "output_type": "execute_result",
          "data": {
            "text/plain": [
              "[['Amazon', 1, 4.0, 0.2727380952380952, 1.9818214285714286],\n",
              " ['Vijay sales', 2, 4.1, 0.2555934343434343, 2.31667803030303],\n",
              " ['Croma', 3, 4.7, 0.6967400568181819, 2.9890220170454547],\n",
              " ['mi', 4, 4.8, 0.21902777777777777, 3.1857083333333334],\n",
              " ['Flipkart', 5, 4.3, 0.3815260636799098, 3.3344578191039727]]"
            ]
          },
          "metadata": {},
          "execution_count": 25
        }
      ]
    },
    {
      "cell_type": "code",
      "source": [
        "finli4.reverse()"
      ],
      "metadata": {
        "id": "-cgZUjAMj4WB"
      },
      "execution_count": 26,
      "outputs": []
    },
    {
      "cell_type": "code",
      "source": [
        "finli4"
      ],
      "metadata": {
        "colab": {
          "base_uri": "https://localhost:8080/"
        },
        "id": "SN46tBNwiVcm",
        "outputId": "9563368d-914a-43a3-c03f-6f7804d8c310"
      },
      "execution_count": 27,
      "outputs": [
        {
          "output_type": "execute_result",
          "data": {
            "text/plain": [
              "[['Flipkart', 5, 4.3, 0.3815260636799098, 3.3344578191039727],\n",
              " ['mi', 4, 4.8, 0.21902777777777777, 3.1857083333333334],\n",
              " ['Croma', 3, 4.7, 0.6967400568181819, 2.9890220170454547],\n",
              " ['Vijay sales', 2, 4.1, 0.2555934343434343, 2.31667803030303],\n",
              " ['Amazon', 1, 4.0, 0.2727380952380952, 1.9818214285714286]]"
            ]
          },
          "metadata": {},
          "execution_count": 27
        }
      ]
    },
    {
      "cell_type": "code",
      "source": [
        "a=input()\n",
        "res=df.loc[a]\n",
        "li=[]\n",
        "i=4\n",
        "lis=[]\n",
        "while(i<len(res)):\n",
        "  if(res[i]!=\"nan\"):\n",
        "    lis.append(res[i])\n",
        "    lis.append(res[i+1])\n",
        "    lis.append(res[i+3])\n",
        "    lis.append(res[i+4])\n",
        "    i=i+5\n",
        "    li.append(lis)\n",
        "    lis=[]\n",
        "finli=[]\n",
        "for i in li:\n",
        "  if  str(i[1]) != \"nan\":\n",
        "    mil=g2(i[3])\n",
        "    i[3]=mil\n",
        "    finli.append(i)\n",
        "finli1=Sort(finli)\n",
        "finli2=[]\n",
        "l=len(finli1)\n",
        "for i in finli1:\n",
        "  i[1]=l\n",
        "  l=l-1\n",
        "  finli2.append(i)\n",
        "finli3=[]\n",
        "for i in finli2:\n",
        "  suma=0.3*i[1]+0.4*i[2]+0.3*i[3]\n",
        "  i.append(suma)\n",
        "  finli3.append(i)\n",
        "finli4=Sort1(finli3)\n",
        "finli4.reverse()\n",
        "for i in finli4:\n",
        "  print(i[0])"
      ],
      "metadata": {
        "colab": {
          "base_uri": "https://localhost:8080/"
        },
        "id": "t082bVZGgZEd",
        "outputId": "877a30b6-9505-4209-a73c-9c8b21e0f8ee"
      },
      "execution_count": 28,
      "outputs": [
        {
          "output_type": "stream",
          "name": "stdout",
          "text": [
            "Redmi 10\n",
            "Flipkart\n",
            "mi\n",
            "Croma\n",
            "Vijay sales\n",
            "Amazon\n"
          ]
        }
      ]
    }
  ]
}